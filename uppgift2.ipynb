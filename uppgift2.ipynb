{
 "cells": [
  {
   "cell_type": "code",
   "execution_count": 2,
   "metadata": {},
   "outputs": [],
   "source": [
    "import pandas as pd"
   ]
  },
  {
   "cell_type": "code",
   "execution_count": 4,
   "metadata": {},
   "outputs": [
    {
     "data": {
      "text/plain": [
       "Year\n",
       "1900     1\n",
       "1908    32\n",
       "1912    24\n",
       "1920    10\n",
       "1924     5\n",
       "1928    16\n",
       "1932     6\n",
       "1936     6\n",
       "1948    13\n",
       "1964     4\n",
       "1976    11\n",
       "1980    15\n",
       "1984     5\n",
       "1988     5\n",
       "1992     5\n",
       "1996     6\n",
       "2000    17\n",
       "2004    12\n",
       "2008    23\n",
       "2012    28\n",
       "2016    26\n",
       "Name: Medal, dtype: int64"
      ]
     },
     "metadata": {},
     "output_type": "display_data"
    }
   ],
   "source": [
    "file_path_athlete_events = \"data/athlete_events.csv\"\n",
    "athlete_events_data = pd.read_csv(file_path_athlete_events)\n",
    "\n",
    "gb_athletes = athlete_events_data[athlete_events_data['NOC'] == 'GBR']\n",
    "gb_rowing = gb_athletes[gb_athletes['Sport'] == 'Rowing']\n",
    "\n",
    "medal_trend_rowing = gb_rowing.dropna(subset=['Medal']).groupby('Year')['Medal'].count()\n",
    "\n",
    "display(medal_trend_rowing)"
   ]
  }
 ],
 "metadata": {
  "kernelspec": {
   "display_name": "Lab1-Data-Behandling-zLjmQyMu",
   "language": "python",
   "name": "python3"
  },
  "language_info": {
   "codemirror_mode": {
    "name": "ipython",
    "version": 3
   },
   "file_extension": ".py",
   "mimetype": "text/x-python",
   "name": "python",
   "nbconvert_exporter": "python",
   "pygments_lexer": "ipython3",
   "version": "3.11.5"
  }
 },
 "nbformat": 4,
 "nbformat_minor": 2
}
